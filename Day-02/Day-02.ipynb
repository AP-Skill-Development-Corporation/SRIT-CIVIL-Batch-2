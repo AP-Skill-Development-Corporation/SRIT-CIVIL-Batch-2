{
 "cells": [
  {
   "cell_type": "code",
   "execution_count": 1,
   "id": "7be0d8a1",
   "metadata": {},
   "outputs": [
    {
     "data": {
      "text/plain": [
       "10"
      ]
     },
     "execution_count": 1,
     "metadata": {},
     "output_type": "execute_result"
    }
   ],
   "source": [
    "a = 10\n",
    "a"
   ]
  },
  {
   "cell_type": "code",
   "execution_count": 2,
   "id": "df39f69b",
   "metadata": {},
   "outputs": [
    {
     "name": "stdout",
     "output_type": "stream",
     "text": [
      "Hello Everyone!..\n"
     ]
    }
   ],
   "source": [
    "print(\"Hello Everyone!..\")"
   ]
  },
  {
   "cell_type": "code",
   "execution_count": 3,
   "id": "39a77b01",
   "metadata": {},
   "outputs": [
    {
     "name": "stdout",
     "output_type": "stream",
     "text": [
      "goodmorning\n"
     ]
    }
   ],
   "source": [
    "print(\"good\"+\"morning\")"
   ]
  },
  {
   "cell_type": "code",
   "execution_count": 5,
   "id": "3ef2ac8a",
   "metadata": {},
   "outputs": [
    {
     "name": "stdout",
     "output_type": "stream",
     "text": [
      "students 99\n"
     ]
    }
   ],
   "source": [
    "print(\"students\",99)"
   ]
  },
  {
   "cell_type": "markdown",
   "id": "329d406d",
   "metadata": {},
   "source": [
    "### Python comments:\n",
    "    - single line comments -> # symbal\n",
    "    - Multi line comments  -> '''\n",
    "                                    statement1\n",
    "                                    statement2\n",
    "                                    statement3 \n",
    "                                    '''\n",
    "                                    (or)\n",
    "                                    \"\"\"\n",
    "                                        \"\"\""
   ]
  },
  {
   "cell_type": "markdown",
   "id": "124416d8",
   "metadata": {},
   "source": [
    "### Data types:\n",
    "        - indentify the type of a variable.\n",
    "        1)int -> It holds the integer values.\n",
    "        2)str -> It holds the string values.\n",
    "        3)float -> It holds the floating values.\n",
    "    -> To know the data type \n",
    "    -> type(variable_name)"
   ]
  },
  {
   "cell_type": "code",
   "execution_count": 9,
   "id": "491bb06f",
   "metadata": {},
   "outputs": [
    {
     "name": "stdout",
     "output_type": "stream",
     "text": [
      "233456789 <class 'int'>\n"
     ]
    }
   ],
   "source": [
    "p = 233456789\n",
    "print(p,type(p))"
   ]
  },
  {
   "cell_type": "code",
   "execution_count": 10,
   "id": "f54c0260",
   "metadata": {},
   "outputs": [
    {
     "name": "stdout",
     "output_type": "stream",
     "text": [
      "python programming <class 'str'>\n"
     ]
    }
   ],
   "source": [
    "s = \"python programming\"\n",
    "print(s,type(s))"
   ]
  },
  {
   "cell_type": "code",
   "execution_count": 11,
   "id": "567b037d",
   "metadata": {},
   "outputs": [
    {
     "name": "stdout",
     "output_type": "stream",
     "text": [
      "567.89045 <class 'float'>\n"
     ]
    }
   ],
   "source": [
    "f1 = 567.89045\n",
    "print(f1,type(f1))"
   ]
  },
  {
   "cell_type": "markdown",
   "id": "833de956",
   "metadata": {},
   "source": [
    "### Type conversions/casting:\n",
    "\n",
    "        1)int()\n",
    "              \n",
    "        2)str()\n",
    "        \n",
    "        3)float()\n",
    "        \n",
    "        4) All data structures[list,tuple,dictionary,sets]"
   ]
  },
  {
   "cell_type": "code",
   "execution_count": 22,
   "id": "199e17f8",
   "metadata": {},
   "outputs": [
    {
     "name": "stdout",
     "output_type": "stream",
     "text": [
      "<class 'int'>\n",
      "10\n",
      "10 <class 'str'>\n",
      "<class 'str'>\n"
     ]
    }
   ],
   "source": [
    "a = 10\n",
    "print(type(a))\n",
    "a = str(a)\n",
    "print(a)\n",
    "print(a,type(a))\n",
    "print(type(a))"
   ]
  },
  {
   "cell_type": "code",
   "execution_count": 25,
   "id": "05443174",
   "metadata": {},
   "outputs": [
    {
     "name": "stdout",
     "output_type": "stream",
     "text": [
      "<class 'int'>\n",
      "<class 'float'>\n",
      "45.0\n"
     ]
    }
   ],
   "source": [
    "# integer to float conversion..\n",
    "n = 45\n",
    "print(type(n))\n",
    "n = float(n)\n",
    "print(type(n))\n",
    "print(n)"
   ]
  },
  {
   "cell_type": "code",
   "execution_count": 28,
   "id": "36b3cc7f",
   "metadata": {},
   "outputs": [
    {
     "name": "stdout",
     "output_type": "stream",
     "text": [
      "<class 'float'>\n",
      "<class 'int'>\n",
      "45\n"
     ]
    }
   ],
   "source": [
    "# floating to integer conversion..\n",
    "f = 45.67\n",
    "print(type(f))\n",
    "f = int(f)\n",
    "print(type(f))\n",
    "print(f)"
   ]
  },
  {
   "cell_type": "code",
   "execution_count": 30,
   "id": "9e97d6bb",
   "metadata": {},
   "outputs": [
    {
     "name": "stdout",
     "output_type": "stream",
     "text": [
      "<class 'str'>\n"
     ]
    },
    {
     "ename": "ValueError",
     "evalue": "invalid literal for int() with base 10: 'python'",
     "output_type": "error",
     "traceback": [
      "\u001b[1;31m---------------------------------------------------------------------------\u001b[0m",
      "\u001b[1;31mValueError\u001b[0m                                Traceback (most recent call last)",
      "\u001b[1;32m<ipython-input-30-6c7a37061d2b>\u001b[0m in \u001b[0;36m<module>\u001b[1;34m\u001b[0m\n\u001b[0;32m      2\u001b[0m \u001b[0ms1\u001b[0m \u001b[1;33m=\u001b[0m\u001b[1;34m\"python\"\u001b[0m\u001b[1;33m\u001b[0m\u001b[1;33m\u001b[0m\u001b[0m\n\u001b[0;32m      3\u001b[0m \u001b[0mprint\u001b[0m\u001b[1;33m(\u001b[0m\u001b[0mtype\u001b[0m\u001b[1;33m(\u001b[0m\u001b[0ms1\u001b[0m\u001b[1;33m)\u001b[0m\u001b[1;33m)\u001b[0m\u001b[1;33m\u001b[0m\u001b[1;33m\u001b[0m\u001b[0m\n\u001b[1;32m----> 4\u001b[1;33m \u001b[0ms1\u001b[0m \u001b[1;33m=\u001b[0m \u001b[0mint\u001b[0m\u001b[1;33m(\u001b[0m\u001b[0ms1\u001b[0m\u001b[1;33m)\u001b[0m\u001b[1;33m\u001b[0m\u001b[1;33m\u001b[0m\u001b[0m\n\u001b[0m\u001b[0;32m      5\u001b[0m \u001b[0mprint\u001b[0m\u001b[1;33m(\u001b[0m\u001b[0mtype\u001b[0m\u001b[1;33m(\u001b[0m\u001b[0ms1\u001b[0m\u001b[1;33m)\u001b[0m\u001b[1;33m)\u001b[0m\u001b[1;33m\u001b[0m\u001b[1;33m\u001b[0m\u001b[0m\n",
      "\u001b[1;31mValueError\u001b[0m: invalid literal for int() with base 10: 'python'"
     ]
    }
   ],
   "source": [
    "# string to integer conversion..\n",
    "s1 =\"python\"\n",
    "print(type(s1))\n",
    "s1 = int(s1)\n",
    "print(type(s1))"
   ]
  },
  {
   "cell_type": "code",
   "execution_count": 35,
   "id": "10073a91",
   "metadata": {},
   "outputs": [
    {
     "name": "stdout",
     "output_type": "stream",
     "text": [
      "<class 'str'>\n",
      "<class 'int'>\n",
      "2345\n"
     ]
    }
   ],
   "source": [
    "# string to integer conversion only string value as interger\n",
    "s2 =\"2345\"\n",
    "print(type(s2))\n",
    "s2 = int(s2)\n",
    "print(type(s2))\n",
    "print(s2)"
   ]
  },
  {
   "cell_type": "markdown",
   "id": "2a4d0061",
   "metadata": {},
   "source": [
    "```\n",
    "Task:\n",
    "    Input: 45 [Static Value]\n",
    "    Output:\n",
    "        Given number is 45\n",
    "        Given number is 45 and the floating value is: 45.00\n",
    "        Given number is 45 and its string value is: '45'\n",
    "```"
   ]
  },
  {
   "cell_type": "code",
   "execution_count": 50,
   "id": "0b61ec9d",
   "metadata": {},
   "outputs": [
    {
     "name": "stdout",
     "output_type": "stream",
     "text": [
      "Given number is 45\n",
      "Given number is 45 and the floating value is: 45.0\n",
      "Given number is 45 and the string value is:'45'\n"
     ]
    }
   ],
   "source": [
    "n = 45\n",
    "print(\"Given number is\",n)\n",
    "print(\"Given number is\",n,\"and the floating value is:\",float(n))\n",
    "print(\"Given number is\",n,\"and the string value is:'\"+str(n)+\"'\")"
   ]
  },
  {
   "cell_type": "markdown",
   "id": "bddcc5ad",
   "metadata": {},
   "source": [
    "### input formatting:\n",
    "        1)static method\n",
    "        2)dynamic method\n",
    "        - we can read the input value from the keyboard we can use input()-> method.\n",
    "        -> syntax: variable_name = input(\"message!..\")\n",
    "        -> by default the input method stores the string type of data.\n",
    "        -> dynamic ways\n",
    "                1)int(input())\n",
    "                2)float(input())"
   ]
  },
  {
   "cell_type": "code",
   "execution_count": 52,
   "id": "2ded445c",
   "metadata": {},
   "outputs": [
    {
     "name": "stdout",
     "output_type": "stream",
     "text": [
      "Enter a value!..23\n",
      "23 <class 'str'>\n"
     ]
    }
   ],
   "source": [
    "# dynamic method to read the value..\n",
    "n = input(\"Enter a value!..\")\n",
    "print(n,type(n))"
   ]
  },
  {
   "cell_type": "code",
   "execution_count": 54,
   "id": "ea65188e",
   "metadata": {},
   "outputs": [
    {
     "name": "stdout",
     "output_type": "stream",
     "text": [
      "100\n"
     ]
    }
   ],
   "source": [
    "#static method..\n",
    "m = 100\n",
    "print(m)"
   ]
  },
  {
   "cell_type": "code",
   "execution_count": 55,
   "id": "e8d40227",
   "metadata": {},
   "outputs": [
    {
     "name": "stdout",
     "output_type": "stream",
     "text": [
      "23\n",
      "23\n"
     ]
    }
   ],
   "source": [
    "a = input()\n",
    "print(a)"
   ]
  },
  {
   "cell_type": "code",
   "execution_count": 56,
   "id": "bb2750bd",
   "metadata": {},
   "outputs": [
    {
     "name": "stdout",
     "output_type": "stream",
     "text": [
      "Enter n1 value..100\n",
      "100 <class 'int'>\n"
     ]
    }
   ],
   "source": [
    "# To read the integer values\n",
    "n1 = int(input(\"Enter n1 value..\"))\n",
    "print(n1,type(n1))"
   ]
  },
  {
   "cell_type": "code",
   "execution_count": 1,
   "id": "bde59e0b",
   "metadata": {},
   "outputs": [
    {
     "name": "stdout",
     "output_type": "stream",
     "text": [
      "Enter string'121'\n",
      "'121' <class 'str'>\n"
     ]
    }
   ],
   "source": [
    "# To read the string data..\n",
    "s1 = input(\"Enter string\")\n",
    "print(s1,type(s1))"
   ]
  },
  {
   "cell_type": "markdown",
   "id": "deef8eca",
   "metadata": {},
   "source": [
    "### output format:\n",
    "        - use coma(,)\n",
    "        - use percentage(%)\n",
    "        - use .format"
   ]
  },
  {
   "cell_type": "code",
   "execution_count": 29,
   "id": "0b0c7831",
   "metadata": {},
   "outputs": [
    {
     "name": "stdout",
     "output_type": "stream",
     "text": [
      "Enter a value..23\n",
      "Enter b value..45\n",
      "Addition of 23 and 45 is 68\n",
      "subtraction of 23 and 45 is -22\n",
      "Division of 23 and 45 is: 0.5111111111111111\n"
     ]
    }
   ],
   "source": [
    "a = int(input(\"Enter a value..\"))\n",
    "b = int(input(\"Enter b value..\"))\n",
    "print(\"Addition of\",a,\"and\",b,\"is\",a+b)#using coma(,)\n",
    "print(\"subtraction of %d and %d is %d\"%(a,b,a-b))\n",
    "print(\"Division of {} and {} is: {}\".format(a,b,a/b))"
   ]
  },
  {
   "cell_type": "code",
   "execution_count": 24,
   "id": "1107e111",
   "metadata": {},
   "outputs": [
    {
     "name": "stdout",
     "output_type": "stream",
     "text": [
      "1.8\n",
      "1\n",
      "27\n"
     ]
    }
   ],
   "source": [
    "print(9/5)\n",
    "print(9//5)#floor division\n",
    "print(3**3)#power\n",
    "#membership operators->[in,not in]\n",
    "#Identity operators->[is,is not]"
   ]
  },
  {
   "cell_type": "markdown",
   "id": "d5cc3c5d",
   "metadata": {},
   "source": [
    "## Operators:\n",
    "    - Arithmetic => +,-,*,/,%,//,**\n",
    "    - Logical => AND,OR,NOT\n",
    "    - Bitwise => &,|,~,>>,<<\n",
    "    - Relational => ==,!=,>=,<=\n",
    "    - Assignment => +=,-=,*=,%=,//=\n",
    "    - Membership => in,not in\n",
    "    - Identity => is,is not"
   ]
  },
  {
   "cell_type": "markdown",
   "id": "0b9133e1",
   "metadata": {},
   "source": [
    "## Variable:\n",
    "    - To store a value\n",
    "    - To change a value"
   ]
  },
  {
   "cell_type": "markdown",
   "id": "c9c030d1",
   "metadata": {},
   "source": [
    "### Conditional statements:\n",
    "      - To check whether a given condition is either True or False\n",
    "      - if => single case\n",
    "      - if-else => two cases\n",
    "      - nested if => 3 or more cases\n",
    "      - elif => 3 or more n number of cases"
   ]
  },
  {
   "cell_type": "markdown",
   "id": "30e4b6e7",
   "metadata": {},
   "source": [
    "## If "
   ]
  },
  {
   "cell_type": "code",
   "execution_count": 31,
   "id": "7fd6db0f",
   "metadata": {},
   "outputs": [
    {
     "name": "stdout",
     "output_type": "stream",
     "text": [
      "Enter a value!..12\n"
     ]
    }
   ],
   "source": [
    "n = int(input(\"Enter a value!..\"))\n",
    "if n == 20:\n",
    "    print(\"Given number is:{} is equal to 20\".format(n))"
   ]
  },
  {
   "cell_type": "markdown",
   "id": "8d1ec511",
   "metadata": {},
   "source": [
    "## if-else"
   ]
  },
  {
   "cell_type": "code",
   "execution_count": null,
   "id": "b0f7b38a",
   "metadata": {},
   "outputs": [],
   "source": [
    "n = int(input(\"Enter a value!..\"))\n",
    "if n == 20:\n",
    "    print(\"Given number is:{} is equal to 20\".format(n))\n",
    "else:\n",
    "    print(\"Given number is: {} is not equal to 20\".format(n))"
   ]
  },
  {
   "cell_type": "code",
   "execution_count": 34,
   "id": "51fd7c1c",
   "metadata": {},
   "outputs": [
    {
     "name": "stdout",
     "output_type": "stream",
     "text": [
      "Enter a value!..57\n",
      "57 is not a even number\n"
     ]
    }
   ],
   "source": [
    "# To check whether the given number is even number or not?\n",
    "a = int(input(\"Enter a value!..\"))\n",
    "if a%2 == 0:\n",
    "    print(\"{} is even number\".format(a))\n",
    "else:\n",
    "    print(\"{} is not a even number\".format(a))"
   ]
  },
  {
   "cell_type": "markdown",
   "id": "c0a7ea22",
   "metadata": {},
   "source": [
    "### elif:\n",
    "    - syntax:\n",
    "            if(condition-1):\n",
    "                statement-1\n",
    "            elif(condition-2):\n",
    "                statement-2\n",
    "                |         |\n",
    "            elif(condition(n-1)):\n",
    "                statement(n-1)\n",
    "            else:\n",
    "                statement-n"
   ]
  },
  {
   "cell_type": "code",
   "execution_count": 36,
   "id": "9967a23e",
   "metadata": {},
   "outputs": [
    {
     "name": "stdout",
     "output_type": "stream",
     "text": [
      "Enter a value20\n",
      "Enter b value30\n",
      "30 is bigger than 20\n"
     ]
    }
   ],
   "source": [
    "# To find the biggest of two numbers?\n",
    "a = int(input(\"Enter a value\"))\n",
    "b = int(input(\"Enter b value\"))\n",
    "if a == b:\n",
    "    print(\"Two numbers are equal!..\")\n",
    "elif a>b:\n",
    "    print(\"{} is bigger than {}\".format(a,b))\n",
    "else:\n",
    "    print(\"{} is bigger than {}\".format(b,a))"
   ]
  },
  {
   "cell_type": "markdown",
   "id": "be03e6a1",
   "metadata": {},
   "source": [
    "### nested if statement:\n",
    "    - syntax:\n",
    "            if(base condition): true\n",
    "                if condition1:\n",
    "                    statement1\n",
    "                 else:\n",
    "                    statement2\n",
    "            else:\n",
    "                statement3"
   ]
  },
  {
   "cell_type": "code",
   "execution_count": null,
   "id": "97ed9069",
   "metadata": {},
   "outputs": [],
   "source": [
    "# login page\n",
    "u = \"raju\"\n"
   ]
  }
 ],
 "metadata": {
  "kernelspec": {
   "display_name": "Python 3",
   "language": "python",
   "name": "python3"
  },
  "language_info": {
   "codemirror_mode": {
    "name": "ipython",
    "version": 3
   },
   "file_extension": ".py",
   "mimetype": "text/x-python",
   "name": "python",
   "nbconvert_exporter": "python",
   "pygments_lexer": "ipython3",
   "version": "3.7.5"
  }
 },
 "nbformat": 4,
 "nbformat_minor": 5
}
