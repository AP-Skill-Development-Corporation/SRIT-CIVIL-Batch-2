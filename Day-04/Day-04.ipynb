{
 "cells": [
  {
   "cell_type": "code",
   "execution_count": null,
   "id": "da494d1a",
   "metadata": {},
   "outputs": [],
   "source": [
    "# reverse of a given number...\n",
    "10)1(0 -> -> n = n//10\n",
    "   0\n",
    "------\n",
    "   1 -> % -> n = n%10"
   ]
  },
  {
   "cell_type": "code",
   "execution_count": 1,
   "id": "42c86e39",
   "metadata": {},
   "outputs": [
    {
     "name": "stdout",
     "output_type": "stream",
     "text": [
      "20 20 20\n"
     ]
    }
   ],
   "source": [
    "a = b = c = 20\n",
    "print(a,b,c)"
   ]
  },
  {
   "cell_type": "code",
   "execution_count": 2,
   "id": "2c75cb99",
   "metadata": {},
   "outputs": [
    {
     "name": "stdout",
     "output_type": "stream",
     "text": [
      "Enter n value:4567\n",
      "Number of digits is4\n",
      "\n",
      " final n value is 0\n"
     ]
    }
   ],
   "source": [
    "# Digit count program..\n",
    "n = int(input(\"Enter n value:\")) # n = 23\n",
    "c1 = 0   # c1 = 0\n",
    "while n!=0: # 23!=0 True 2!=0 -> True -> 0!=0 false\n",
    "    c1 = c1+1 # c1 = 0+1-> 1 -> c1 = 2\n",
    "    n = n//10 # n = 2  -> n= 0\n",
    "print(\"Number of digits is{}\".format(c1))\n",
    "print(\"\\n final n value is {}\".format(n))\n"
   ]
  },
  {
   "cell_type": "markdown",
   "id": "97485b65",
   "metadata": {},
   "source": [
    "## Jumping Statements:\n",
    "    - break => To exit from a loop\n",
    "    - continue => To skip from a loop\n",
    "    - pass => To skip or else for future enhancement\n",
    "    - return => To return single value or else data structure values [It can be accessed from a function]"
   ]
  },
  {
   "cell_type": "code",
   "execution_count": 3,
   "id": "ef1f9cd0",
   "metadata": {},
   "outputs": [
    {
     "name": "stdout",
     "output_type": "stream",
     "text": [
      "0 1 2 "
     ]
    }
   ],
   "source": [
    "# break example..\n",
    "for i in range(5):\n",
    "    if i == 3:\n",
    "        break\n",
    "    print(i,end=\" \")"
   ]
  },
  {
   "cell_type": "code",
   "execution_count": 12,
   "id": "75c887dd",
   "metadata": {},
   "outputs": [
    {
     "name": "stdout",
     "output_type": "stream",
     "text": [
      "0 1 2 4 5 6 7 8 9 11 13 14 "
     ]
    }
   ],
   "source": [
    "# continue example..\n",
    "for i in range(15):\n",
    "    if i == 3 or i==10 or i==12:\n",
    "        continue\n",
    "    print(i,end=\" \")"
   ]
  },
  {
   "cell_type": "code",
   "execution_count": 17,
   "id": "9caa7185",
   "metadata": {},
   "outputs": [
    {
     "name": "stdout",
     "output_type": "stream",
     "text": [
      "0 1 2 Hello 3 4 "
     ]
    }
   ],
   "source": [
    "# pass example..\n",
    "for i in range(5):\n",
    "    if i == 3:\n",
    "        pass\n",
    "        print(\"Hello\",end=\" \")\n",
    "    print(i,end=\" \")"
   ]
  },
  {
   "cell_type": "markdown",
   "id": "74612201",
   "metadata": {},
   "source": [
    "### Inner loops:\n",
    "        # outer for loop\n",
    "        for i in sequence: -> It indicates rows\n",
    "            # inner for loop\n",
    "            for j in sequence: -> It indicates columns\n",
    "                statements\n",
    "            body of inner for loop\n",
    "        body of outer for loop"
   ]
  },
  {
   "cell_type": "code",
   "execution_count": 32,
   "id": "7ec0b810",
   "metadata": {},
   "outputs": [
    {
     "name": "stdout",
     "output_type": "stream",
     "text": [
      "Enter row size:3\n",
      "Enter column size:3\n",
      "00 01 02 \n",
      "10 11 12 \n",
      "20 21 22 \n"
     ]
    }
   ],
   "source": [
    "row = int(input(\"Enter row size:\"))\n",
    "col = int(input(\"Enter column size:\"))\n",
    "for i in range(row):\n",
    "    for j in range(col):\n",
    "        print(\"{}{}\".format(i,j),end=\" \")\n",
    "    print(\"\")"
   ]
  },
  {
   "cell_type": "code",
   "execution_count": null,
   "id": "5a7837a7",
   "metadata": {},
   "outputs": [],
   "source": [
    "n=5\n",
    "1\n",
    "2 2\n",
    "3 3 3\n",
    "4 4 4 4\n",
    "5 5 5 5 5\n",
    "\n",
    "n=3\n",
    "*  *\n",
    " *\n",
    "*  * "
   ]
  },
  {
   "cell_type": "code",
   "execution_count": 45,
   "id": "0f96e8b8",
   "metadata": {},
   "outputs": [
    {
     "name": "stdout",
     "output_type": "stream",
     "text": [
      "Enter n value:5\n",
      "*        *  \n",
      "  *    *    \n",
      "    *      \n",
      "  *    *    \n",
      "*        *  \n"
     ]
    }
   ],
   "source": [
    "n = int(input(\"Enter n value:\"))\n",
    "for i in range(n):\n",
    "    for j in range(n):\n",
    "        if (i==j) or (i+j==n-1):\n",
    "            print(\"* \",end=\" \")\n",
    "        else:\n",
    "            print(\" \",end=\" \")\n",
    "    print(\"\")"
   ]
  },
  {
   "cell_type": "code",
   "execution_count": 3,
   "id": "cff93a16",
   "metadata": {},
   "outputs": [
    {
     "name": "stdout",
     "output_type": "stream",
     "text": [
      "24\n",
      "Not Weird\n"
     ]
    }
   ],
   "source": [
    "n = int(input())\n",
    "if n%2==0 and n == 4:\n",
    "    print(\"Not Weird\")\n",
    "elif n%2==0 and (n>=6 and n<20):\n",
    "    print(\"Weird\")\n",
    "elif n%2==0 and n>20:\n",
    "    print(\"Not Weird\")\n",
    "else:\n",
    "    print(\"Weird\")"
   ]
  },
  {
   "cell_type": "markdown",
   "id": "4462dbf4",
   "metadata": {},
   "source": [
    "## Functions:\n",
    "    - To Perform a specific task\n",
    "    - Builtin Function => Task is Fixed\n",
    "    - User defined Function => based on user task is created\n",
    "    Function Syntax:\n",
    "    ================\n",
    "        def functionname(arguments):\n",
    "            //stmnts\n",
    "            return returnvalue"
   ]
  },
  {
   "cell_type": "markdown",
   "id": "de7ab0b4",
   "metadata": {},
   "source": [
    "## User Defined Functions:\n",
    "    - with returntype and with arguments\n",
    "    - with returntype and without arguments\n",
    "    - without returntype and with arguments\n",
    "    - without returntype and without arguments"
   ]
  },
  {
   "cell_type": "markdown",
   "id": "8b60a052",
   "metadata": {},
   "source": [
    "## Function arguments:\n",
    "    - Default arguments\n",
    "    - Keyword arguments\n",
    "    - Positional or Required arguments\n",
    "    - Variable length arguments"
   ]
  },
  {
   "cell_type": "code",
   "execution_count": 11,
   "id": "7b5b9b47",
   "metadata": {},
   "outputs": [],
   "source": [
    "def sb(a,b=300):\n",
    "    print(\"A value is: \",a)\n",
    "    print(\"B Value is: \",b)\n",
    "    return"
   ]
  },
  {
   "cell_type": "code",
   "execution_count": 12,
   "id": "c4a79ad9",
   "metadata": {},
   "outputs": [
    {
     "name": "stdout",
     "output_type": "stream",
     "text": [
      "A value is:  10\n",
      "B Value is:  300\n",
      "A value is:  50\n",
      "B Value is:  200\n"
     ]
    },
    {
     "ename": "TypeError",
     "evalue": "sb() missing 1 required positional argument: 'a'",
     "output_type": "error",
     "traceback": [
      "\u001b[1;31m---------------------------------------------------------------------------\u001b[0m",
      "\u001b[1;31mTypeError\u001b[0m                                 Traceback (most recent call last)",
      "\u001b[1;32m<ipython-input-12-f35c805d94b2>\u001b[0m in \u001b[0;36m<module>\u001b[1;34m\u001b[0m\n\u001b[0;32m      1\u001b[0m \u001b[0msb\u001b[0m\u001b[1;33m(\u001b[0m\u001b[1;36m10\u001b[0m\u001b[1;33m)\u001b[0m\u001b[1;33m\u001b[0m\u001b[1;33m\u001b[0m\u001b[0m\n\u001b[0;32m      2\u001b[0m \u001b[0msb\u001b[0m\u001b[1;33m(\u001b[0m\u001b[1;36m50\u001b[0m\u001b[1;33m,\u001b[0m\u001b[1;36m200\u001b[0m\u001b[1;33m)\u001b[0m\u001b[1;33m\u001b[0m\u001b[1;33m\u001b[0m\u001b[0m\n\u001b[1;32m----> 3\u001b[1;33m \u001b[0msb\u001b[0m\u001b[1;33m(\u001b[0m\u001b[1;33m)\u001b[0m\u001b[1;33m\u001b[0m\u001b[1;33m\u001b[0m\u001b[0m\n\u001b[0m",
      "\u001b[1;31mTypeError\u001b[0m: sb() missing 1 required positional argument: 'a'"
     ]
    }
   ],
   "source": [
    "sb(10)\n",
    "sb(50,200)\n",
    "sb()"
   ]
  },
  {
   "cell_type": "code",
   "execution_count": null,
   "id": "ea532969",
   "metadata": {},
   "outputs": [],
   "source": []
  }
 ],
 "metadata": {
  "kernelspec": {
   "display_name": "Python 3",
   "language": "python",
   "name": "python3"
  },
  "language_info": {
   "codemirror_mode": {
    "name": "ipython",
    "version": 3
   },
   "file_extension": ".py",
   "mimetype": "text/x-python",
   "name": "python",
   "nbconvert_exporter": "python",
   "pygments_lexer": "ipython3",
   "version": "3.7.5"
  }
 },
 "nbformat": 4,
 "nbformat_minor": 5
}
