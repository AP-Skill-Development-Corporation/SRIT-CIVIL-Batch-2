{
 "cells": [
  {
   "cell_type": "markdown",
   "id": "d33ef557",
   "metadata": {},
   "source": [
    "### 1. Keyword  Arguments:\n",
    "        - By using '**' symbal we can define keyword arguments.\n",
    "        - It returns the data in the format of dictionary."
   ]
  },
  {
   "cell_type": "code",
   "execution_count": 1,
   "id": "bce9ff08",
   "metadata": {},
   "outputs": [
    {
     "name": "stdout",
     "output_type": "stream",
     "text": [
      "{'name': 'krishna', 'rollno': 510, 'branch': 'civil'}\n"
     ]
    }
   ],
   "source": [
    "def example(**k):\n",
    "    print(k)\n",
    "example(name=\"krishna\",rollno=510,branch=\"civil\")"
   ]
  },
  {
   "cell_type": "markdown",
   "id": "3c144530",
   "metadata": {},
   "source": [
    "### 2. Variable Length Aruments:\n",
    "        - By using '*' symbal we can define the variable length argument.\n",
    "        - It returns the data in the format of tuple."
   ]
  },
  {
   "cell_type": "code",
   "execution_count": 3,
   "id": "3c612277",
   "metadata": {},
   "outputs": [
    {
     "name": "stdout",
     "output_type": "stream",
     "text": [
      "(10, 20, 30, 40, 50, 'srit')\n"
     ]
    }
   ],
   "source": [
    "def sample(*a):\n",
    "    print(a)\n",
    "sample(10,20,30,40,50,\"srit\")"
   ]
  },
  {
   "cell_type": "code",
   "execution_count": 4,
   "id": "31aecf7c",
   "metadata": {},
   "outputs": [
    {
     "name": "stdout",
     "output_type": "stream",
     "text": [
      "(20,)\n"
     ]
    }
   ],
   "source": [
    "sample(20)"
   ]
  },
  {
   "cell_type": "code",
   "execution_count": 8,
   "id": "7741ab6f",
   "metadata": {},
   "outputs": [
    {
     "ename": "TypeError",
     "evalue": "addition() takes 2 positional arguments but 3 were given",
     "output_type": "error",
     "traceback": [
      "\u001b[1;31m---------------------------------------------------------------------------\u001b[0m",
      "\u001b[1;31mTypeError\u001b[0m                                 Traceback (most recent call last)",
      "\u001b[1;32m<ipython-input-8-bc6ed35f245b>\u001b[0m in \u001b[0;36m<module>\u001b[1;34m\u001b[0m\n\u001b[0;32m      2\u001b[0m \u001b[1;32mdef\u001b[0m \u001b[0maddition\u001b[0m\u001b[1;33m(\u001b[0m\u001b[0ma\u001b[0m\u001b[1;33m,\u001b[0m\u001b[0mb\u001b[0m\u001b[1;33m)\u001b[0m\u001b[1;33m:\u001b[0m\u001b[1;33m\u001b[0m\u001b[1;33m\u001b[0m\u001b[0m\n\u001b[0;32m      3\u001b[0m     \u001b[1;32mreturn\u001b[0m \u001b[0ma\u001b[0m\u001b[1;33m+\u001b[0m\u001b[0mb\u001b[0m\u001b[1;33m\u001b[0m\u001b[1;33m\u001b[0m\u001b[0m\n\u001b[1;32m----> 4\u001b[1;33m \u001b[0maddition\u001b[0m\u001b[1;33m(\u001b[0m\u001b[1;36m10\u001b[0m\u001b[1;33m,\u001b[0m\u001b[1;36m20\u001b[0m\u001b[1;33m,\u001b[0m\u001b[1;36m30\u001b[0m\u001b[1;33m)\u001b[0m\u001b[1;33m\u001b[0m\u001b[1;33m\u001b[0m\u001b[0m\n\u001b[0m",
      "\u001b[1;31mTypeError\u001b[0m: addition() takes 2 positional arguments but 3 were given"
     ]
    }
   ],
   "source": [
    "#positional arguments example..\n",
    "def addition(a,b):\n",
    "    return a+b\n",
    "addition(10,20,30)"
   ]
  },
  {
   "cell_type": "code",
   "execution_count": 9,
   "id": "1ae04b2e",
   "metadata": {},
   "outputs": [
    {
     "data": {
      "text/plain": [
       "30"
      ]
     },
     "execution_count": 9,
     "metadata": {},
     "output_type": "execute_result"
    }
   ],
   "source": [
    "addition(10,20)"
   ]
  },
  {
   "cell_type": "code",
   "execution_count": 14,
   "id": "b7e60b8a",
   "metadata": {},
   "outputs": [
    {
     "name": "stdout",
     "output_type": "stream",
     "text": [
      "20 30 40 (50, 70) {'name': 'narmada', 'rollno': 34}\n"
     ]
    }
   ],
   "source": [
    "def example(a,b,c,*m,**g):\n",
    "    print(a,b,c,m,g)\n",
    "example(20,30,40,50,70,name=\"narmada\",rollno=34)"
   ]
  },
  {
   "cell_type": "code",
   "execution_count": 5,
   "id": "4fa22522",
   "metadata": {},
   "outputs": [
    {
     "name": "stdout",
     "output_type": "stream",
     "text": [
      "Enter n value!..4567\n",
      "sum is : 22\n"
     ]
    }
   ],
   "source": [
    "n = int(input(\"Enter n value!..\"))\n",
    "s1 = 0\n",
    "while n!=0:\n",
    "    r = n%10\n",
    "    s1 = s1+r\n",
    "    n = n//10\n",
    "print(\"sum is :\",s1)"
   ]
  },
  {
   "cell_type": "code",
   "execution_count": 7,
   "id": "0e7f1a46",
   "metadata": {},
   "outputs": [
    {
     "name": "stdout",
     "output_type": "stream",
     "text": [
      "Enter first value:100\n",
      "Enter second value:200\n",
      "300\n"
     ]
    }
   ],
   "source": [
    "# 1. with arguments and with return values..\n",
    "# Addition of two numbers..\n",
    "def addition(m,n):\n",
    "    k = m+n\n",
    "    return k\n",
    "\n",
    "a = int(input(\"Enter first value:\"))\n",
    "b = int(input(\"Enter second value:\"))\n",
    "print(addition(a,b))"
   ]
  },
  {
   "cell_type": "code",
   "execution_count": null,
   "id": "0a71b5ad",
   "metadata": {},
   "outputs": [],
   "source": [
    "# 2. with arguments and with out return values..\n",
    "# Addition of two numbers..\n",
    "def addition(m,n):\n",
    "    k = m+n\n",
    "    print(k)\n",
    "a = int(input(\"Enter first value:\"))\n",
    "b = int(input(\"Enter second value:\"))\n",
    "addition(a,b)"
   ]
  },
  {
   "cell_type": "code",
   "execution_count": 10,
   "id": "909304a6",
   "metadata": {},
   "outputs": [
    {
     "name": "stdout",
     "output_type": "stream",
     "text": [
      "Enter first value:23\n",
      "Enter second value:45\n",
      "68\n"
     ]
    }
   ],
   "source": [
    "# 3. with out arguments and with return values..\n",
    "# Addition of two numbers..\n",
    "def addition():\n",
    "    a = int(input(\"Enter first value:\"))\n",
    "    b = int(input(\"Enter second value:\"))\n",
    "    k = a+b\n",
    "    return k\n",
    "print(addition())"
   ]
  },
  {
   "cell_type": "code",
   "execution_count": 11,
   "id": "ff9cb5e9",
   "metadata": {},
   "outputs": [
    {
     "name": "stdout",
     "output_type": "stream",
     "text": [
      "Enter first value:23\n",
      "Enter second value:45\n",
      "68\n"
     ]
    }
   ],
   "source": [
    "# 4. with out arguments and with out return values..\n",
    "# Addition of two numbers..\n",
    "def addition():\n",
    "    a = int(input(\"Enter first value:\"))\n",
    "    b = int(input(\"Enter second value:\"))\n",
    "    k = a+b\n",
    "    print(k)\n",
    "addition()"
   ]
  },
  {
   "cell_type": "markdown",
   "id": "704cb6d7",
   "metadata": {},
   "source": [
    "###  strings:\n",
    "        - It is a collection of characters.\n",
    "        - It also character array.\n",
    "        - Index position starts from 0 to size-1.\n",
    "        - By using single quotes ,double quotes or tripple quotes->To read the multiline statements."
   ]
  },
  {
   "cell_type": "code",
   "execution_count": 14,
   "id": "a2d20c1e",
   "metadata": {},
   "outputs": [
    {
     "name": "stdout",
     "output_type": "stream",
     "text": [
      "python programming\n",
      "welcome to apssdc\n",
      "srit students\n",
      "civil branch\n",
      "from B-section\n",
      "<class 'str'>\n"
     ]
    }
   ],
   "source": [
    "s1 = 'python programming'\n",
    "s2 =\"welcome to apssdc\"\n",
    "s3 ='''srit students\n",
    "civil branch\n",
    "from B-section'''\n",
    "print(s1)\n",
    "print(s2)\n",
    "print(s3)\n",
    "print(type(s2))"
   ]
  },
  {
   "cell_type": "code",
   "execution_count": 17,
   "id": "94a5dd44",
   "metadata": {},
   "outputs": [
    {
     "name": "stdout",
     "output_type": "stream",
     "text": [
      "Enter string:python programming\n",
      "python programming\n",
      "<class 'str'>\n"
     ]
    }
   ],
   "source": [
    "# dynamic way\n",
    "st = input(\"Enter string:\")\n",
    "print(st)\n",
    "print(type(st))"
   ]
  },
  {
   "cell_type": "code",
   "execution_count": 19,
   "id": "b2c175f8",
   "metadata": {},
   "outputs": [
    {
     "name": "stdout",
     "output_type": "stream",
     "text": [
      "Enter string: srit civil\n",
      "srit civil\n",
      "10\n"
     ]
    }
   ],
   "source": [
    "# find the string length.. len() method.. including space also..\n",
    "s2 = input(\"Enter string: \")\n",
    "print(s2)\n",
    "print(len(s2))"
   ]
  },
  {
   "cell_type": "code",
   "execution_count": 20,
   "id": "cb9ce5f0",
   "metadata": {},
   "outputs": [
    {
     "name": "stdout",
     "output_type": "stream",
     "text": [
      "Enter name: aaryan\n",
      "aaryan\n",
      "y\n"
     ]
    }
   ],
   "source": [
    "# To find the maximum character..\n",
    "name = input(\"Enter name: \")\n",
    "print(name)\n",
    "print(max(name))"
   ]
  },
  {
   "cell_type": "code",
   "execution_count": 21,
   "id": "65c1b1fe",
   "metadata": {},
   "outputs": [
    {
     "name": "stdout",
     "output_type": "stream",
     "text": [
      "enter name: narmada\n",
      "narmada\n",
      "a\n"
     ]
    }
   ],
   "source": [
    "# To find the small character..\n",
    "name = input(\"enter name: \")\n",
    "print(name)\n",
    "print(min(name))"
   ]
  },
  {
   "cell_type": "code",
   "execution_count": 22,
   "id": "a798c13a",
   "metadata": {},
   "outputs": [
    {
     "name": "stdout",
     "output_type": "stream",
     "text": [
      "Enter first string: hello\n",
      "Enter second string: world\n",
      "helloworld\n"
     ]
    }
   ],
   "source": [
    "s1 = input(\"Enter first string: \")\n",
    "s2 = input(\"Enter second string: \")\n",
    "print(s1+s2)"
   ]
  },
  {
   "cell_type": "markdown",
   "id": "a2a81b65",
   "metadata": {},
   "source": [
    "#### To access the stirng values..\n",
    "       - indexing and slicing\n",
    "       - 1) To get the single character.-> indexing\n",
    "       - 2) To get the sequence of character.-> slicing\n",
    "       - 1. forward indexing -> starts from 0 to size-1\n",
    "       - 2. backward indexing -> It taking negative values.. start -1,-2..."
   ]
  },
  {
   "cell_type": "code",
   "execution_count": 40,
   "id": "9016c319",
   "metadata": {},
   "outputs": [
    {
     "name": "stdout",
     "output_type": "stream",
     "text": [
      "p\n",
      "p\n",
      " programming\n",
      "python programming\n",
      "g\n",
      "pto rgamn\n",
      "gnimmargorp nohtyp\n",
      "gimropnhy\n",
      " \n",
      "on pro\n",
      "y\n",
      "tho\n",
      "g\n",
      "min\n"
     ]
    }
   ],
   "source": [
    "# 1. indexing\n",
    "s1 =\"python programming\"\n",
    "print(s1[7])\n",
    "print(s1[0])# to get the first character\n",
    "print(s1[6:])\n",
    "print(s1[::])\n",
    "print(s1[-1])# To get the last character\n",
    "print(s1[::2])# To get the alternative characters\n",
    "print(s1[::-1])# To print the string in reverse order.\n",
    "print(s1[::-2])# reverse alternative charcters printing..\n",
    "print(s1[6])\n",
    "print(s1[4:10])\n",
    "print(s1[1])\n",
    "print(s1[2:5])\n",
    "print(s1[-1:])\n",
    "print(s1[-4:-1:])"
   ]
  },
  {
   "cell_type": "code",
   "execution_count": 41,
   "id": "620397d5",
   "metadata": {},
   "outputs": [
    {
     "name": "stdout",
     "output_type": "stream",
     "text": [
      "Enter string: welcome\n",
      "welcome\n",
      "w e l c o m e "
     ]
    }
   ],
   "source": [
    "# string iteration..\n",
    "s = input(\"Enter string: \")\n",
    "print(s)\n",
    "for i in s:\n",
    "    print(i,end=\" \")"
   ]
  },
  {
   "cell_type": "code",
   "execution_count": 2,
   "id": "d1c283cd",
   "metadata": {},
   "outputs": [
    {
     "name": "stdout",
     "output_type": "stream",
     "text": [
      "Enter a string: ramesh kumar\n",
      "rraammeuskh \n"
     ]
    }
   ],
   "source": [
    "n = input(\"Enter a string: \")\n",
    "y = 1\n",
    "d = \"\"\n",
    "for i in n:\n",
    "    if y < len(n)//2+1:\n",
    "        s = n[-y]\n",
    "        y +=1\n",
    "        d +=i+s\n",
    "print(d)"
   ]
  },
  {
   "cell_type": "markdown",
   "id": "97934f56",
   "metadata": {},
   "source": []
  },
  {
   "cell_type": "raw",
   "id": "bfb9fd4f",
   "metadata": {},
   "source": []
  }
 ],
 "metadata": {
  "kernelspec": {
   "display_name": "Python 3",
   "language": "python",
   "name": "python3"
  },
  "language_info": {
   "codemirror_mode": {
    "name": "ipython",
    "version": 3
   },
   "file_extension": ".py",
   "mimetype": "text/x-python",
   "name": "python",
   "nbconvert_exporter": "python",
   "pygments_lexer": "ipython3",
   "version": "3.7.5"
  }
 },
 "nbformat": 4,
 "nbformat_minor": 5
}
