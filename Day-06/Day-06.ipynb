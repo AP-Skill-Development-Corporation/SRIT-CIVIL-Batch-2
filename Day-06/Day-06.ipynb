{
 "cells": [
  {
   "cell_type": "markdown",
   "id": "5485d18f",
   "metadata": {},
   "source": [
    "### Data Structures:\n",
    "        - List\n",
    "        - Tuple \n",
    "        - Dictionary\n",
    "        - Sets"
   ]
  },
  {
   "cell_type": "markdown",
   "id": "b4635676",
   "metadata": {},
   "source": [
    "### List:\n",
    "        - It a collection different data items.\n",
    "        - []"
   ]
  },
  {
   "cell_type": "code",
   "execution_count": 2,
   "id": "b63d5ad2",
   "metadata": {},
   "outputs": [
    {
     "name": "stdout",
     "output_type": "stream",
     "text": [
      "[10, 20, 'apssdc', 23.56, 78, 'Python']\n",
      "<class 'list'>\n"
     ]
    }
   ],
   "source": [
    "L1 = [10,20,\"apssdc\",23.56,78,\"Python\"]\n",
    "print(L1)\n",
    "print(type(L1))"
   ]
  },
  {
   "cell_type": "code",
   "execution_count": 3,
   "id": "9dcbe37f",
   "metadata": {},
   "outputs": [
    {
     "name": "stdout",
     "output_type": "stream",
     "text": [
      "[10, 20, 'apssdc', 23.56, 78, 'Python']\n",
      "10\n",
      "20\n",
      "apssdc\n",
      "23.56\n",
      "78\n",
      "Python\n"
     ]
    }
   ],
   "source": [
    "# using for loop\n",
    "print(L1)\n",
    "for i in L1:\n",
    "    print(i)"
   ]
  },
  {
   "cell_type": "code",
   "execution_count": 4,
   "id": "b0744109",
   "metadata": {},
   "outputs": [
    {
     "name": "stdout",
     "output_type": "stream",
     "text": [
      "[10, 20, 'apssdc', 23.56, 78, 'Python']\n",
      "6\n"
     ]
    }
   ],
   "source": [
    "# length\n",
    "print(L1)\n",
    "print(len(L1))"
   ]
  },
  {
   "cell_type": "code",
   "execution_count": 7,
   "id": "91f0e41b",
   "metadata": {},
   "outputs": [
    {
     "name": "stdout",
     "output_type": "stream",
     "text": [
      "[10, 20, 'apssdc', 23.56, 78, 'Python']\n",
      "23.56\n",
      "['Python', 78, 23.56, 'apssdc', 20, 10]\n"
     ]
    }
   ],
   "source": [
    "# indexing and slicing..\n",
    "print(L1)\n",
    "print(L1[3])\n",
    "print(L1[::-1])"
   ]
  },
  {
   "cell_type": "code",
   "execution_count": 9,
   "id": "db179a77",
   "metadata": {},
   "outputs": [
    {
     "name": "stdout",
     "output_type": "stream",
     "text": [
      "[10, 200, 'apssdc', 23.56, 78, 'Python']\n",
      "[10, 200, 'apssdc', 23.56, 78, 'Python']\n"
     ]
    }
   ],
   "source": [
    "# updating the value..\n",
    "print(L1)\n",
    "L1[1] = 200\n",
    "print(L1)"
   ]
  },
  {
   "cell_type": "code",
   "execution_count": 10,
   "id": "cfc95c71",
   "metadata": {},
   "outputs": [
    {
     "name": "stdout",
     "output_type": "stream",
     "text": [
      "[34.6, 200, 'apssdc', 23.56, 78, 'Python']\n"
     ]
    }
   ],
   "source": [
    "L1[0]=34.6\n",
    "print(L1)"
   ]
  },
  {
   "cell_type": "code",
   "execution_count": 13,
   "id": "3d40a19e",
   "metadata": {},
   "outputs": [
    {
     "name": "stdout",
     "output_type": "stream",
     "text": [
      "[10, 20, 30, 11, 22, 33, 44]\n",
      "first list:  [10, 20, 30]\n",
      "Second lilst:  [11, 22, 33, 44]\n"
     ]
    }
   ],
   "source": [
    "n = [10,20,30]\n",
    "m = [11,22,33,44]\n",
    "print(n+m)\n",
    "print(\"first list: \",n)\n",
    "print(\"Second lilst: \",m)"
   ]
  },
  {
   "cell_type": "markdown",
   "id": "873f0308",
   "metadata": {},
   "source": [
    "### LIst methods"
   ]
  },
  {
   "cell_type": "code",
   "execution_count": 14,
   "id": "852b6c3d",
   "metadata": {},
   "outputs": [
    {
     "name": "stdout",
     "output_type": "stream",
     "text": [
      "['__add__', '__class__', '__contains__', '__delattr__', '__delitem__', '__dir__', '__doc__', '__eq__', '__format__', '__ge__', '__getattribute__', '__getitem__', '__gt__', '__hash__', '__iadd__', '__imul__', '__init__', '__init_subclass__', '__iter__', '__le__', '__len__', '__lt__', '__mul__', '__ne__', '__new__', '__reduce__', '__reduce_ex__', '__repr__', '__reversed__', '__rmul__', '__setattr__', '__setitem__', '__sizeof__', '__str__', '__subclasshook__', 'append', 'clear', 'copy', 'count', 'extend', 'index', 'insert', 'pop', 'remove', 'reverse', 'sort']\n"
     ]
    }
   ],
   "source": [
    "print(dir(list))"
   ]
  },
  {
   "cell_type": "code",
   "execution_count": 15,
   "id": "939cd53d",
   "metadata": {},
   "outputs": [
    {
     "name": "stdout",
     "output_type": "stream",
     "text": [
      "[10, 20, 34, 56, 12, 100, 78]\n"
     ]
    }
   ],
   "source": [
    "# append() method.-> To add the single value.\n",
    "L2 = [10,20,34,56,12,100]\n",
    "L2.append(78)\n",
    "print(L2)"
   ]
  },
  {
   "cell_type": "code",
   "execution_count": 16,
   "id": "a888d920",
   "metadata": {},
   "outputs": [
    {
     "name": "stdout",
     "output_type": "stream",
     "text": [
      "[10, 20, 34, 56, 12, 100, 78, 'python']\n"
     ]
    }
   ],
   "source": [
    "L2.append('python')\n",
    "print(L2)"
   ]
  },
  {
   "cell_type": "code",
   "execution_count": 18,
   "id": "abe16d5d",
   "metadata": {},
   "outputs": [
    {
     "name": "stdout",
     "output_type": "stream",
     "text": [
      "[10, 20, 34, 56, 12, 100, 78, 'python']\n",
      "[10, 20, 34, 56, 12, 100, 78, 'python', 11, 22, 45, 'java']\n"
     ]
    }
   ],
   "source": [
    "# extend() method -> To add the multiple elements..\n",
    "print(L2)\n",
    "L2.extend([11,22,45,'java'])\n",
    "print(L2)"
   ]
  },
  {
   "cell_type": "code",
   "execution_count": 19,
   "id": "18b9c153",
   "metadata": {},
   "outputs": [
    {
     "name": "stdout",
     "output_type": "stream",
     "text": [
      "[10, 20, 34, 56, 12, 100, 78, 'python', 11, 22, 45, 'java']\n",
      "[10, 200, 20, 34, 56, 12, 100, 78, 'python', 11, 22, 45, 'java']\n"
     ]
    }
   ],
   "source": [
    "#insert() method..\n",
    "print(L2)\n",
    "L2.insert(1,200)\n",
    "print(L2)"
   ]
  },
  {
   "cell_type": "code",
   "execution_count": 20,
   "id": "9d226007",
   "metadata": {},
   "outputs": [
    {
     "data": {
      "text/plain": [
       "3"
      ]
     },
     "execution_count": 20,
     "metadata": {},
     "output_type": "execute_result"
    }
   ],
   "source": [
    "# count() method\n",
    "L3 = [10,20,10,20,10,30,20]\n",
    "L3.count(10)"
   ]
  },
  {
   "cell_type": "code",
   "execution_count": 21,
   "id": "710bdc7b",
   "metadata": {},
   "outputs": [
    {
     "data": {
      "text/plain": [
       "0"
      ]
     },
     "execution_count": 21,
     "metadata": {},
     "output_type": "execute_result"
    }
   ],
   "source": [
    "L3.count(34)"
   ]
  },
  {
   "cell_type": "code",
   "execution_count": 23,
   "id": "06b54026",
   "metadata": {},
   "outputs": [
    {
     "name": "stdout",
     "output_type": "stream",
     "text": [
      "[34.6, 200, 'apssdc', 23.56, 78, 'Python']\n"
     ]
    },
    {
     "data": {
      "text/plain": [
       "1"
      ]
     },
     "execution_count": 23,
     "metadata": {},
     "output_type": "execute_result"
    }
   ],
   "source": [
    "# index\n",
    "print(L1)\n",
    "L1.index(200)"
   ]
  },
  {
   "cell_type": "code",
   "execution_count": 25,
   "id": "91d184e3",
   "metadata": {},
   "outputs": [
    {
     "name": "stdout",
     "output_type": "stream",
     "text": [
      "[34.6, 200, 'apssdc', 23.56, 78, 'Python']\n",
      "[34.6, 200, 'apssdc', 23.56, 78, 'Python']\n"
     ]
    }
   ],
   "source": [
    "# copy() method..\n",
    "print(L1)\n",
    "a = L1.copy()\n",
    "print(a)"
   ]
  },
  {
   "cell_type": "code",
   "execution_count": 29,
   "id": "5fb69756",
   "metadata": {},
   "outputs": [
    {
     "name": "stdout",
     "output_type": "stream",
     "text": [
      "[34.6, 200, 'apssdc', 23.56, 78, 'Python']\n"
     ]
    }
   ],
   "source": [
    "# reverse() method\n",
    "print(L1)\n",
    "L1.reverse()"
   ]
  },
  {
   "cell_type": "code",
   "execution_count": 30,
   "id": "27769e74",
   "metadata": {},
   "outputs": [
    {
     "name": "stdout",
     "output_type": "stream",
     "text": [
      "['Python', 78, 23.56, 'apssdc', 200, 34.6]\n"
     ]
    }
   ],
   "source": [
    "print(L1)"
   ]
  },
  {
   "cell_type": "code",
   "execution_count": 31,
   "id": "edd9c48d",
   "metadata": {},
   "outputs": [
    {
     "name": "stdout",
     "output_type": "stream",
     "text": [
      "[10, 11, 14, 23, 45, 76]\n"
     ]
    }
   ],
   "source": [
    "# sort() method...\n",
    "L3 = [45,10,23,11,76,14]\n",
    "L3.sort()# Ascending order..\n",
    "print(L3)"
   ]
  },
  {
   "cell_type": "code",
   "execution_count": 32,
   "id": "c8369a85",
   "metadata": {},
   "outputs": [
    {
     "name": "stdout",
     "output_type": "stream",
     "text": [
      "[76, 45, 23, 14, 11, 10]\n"
     ]
    }
   ],
   "source": [
    "L3.sort(reverse=True) # descending order\n",
    "print(L3)"
   ]
  },
  {
   "cell_type": "code",
   "execution_count": 34,
   "id": "63b2a6aa",
   "metadata": {},
   "outputs": [
    {
     "name": "stdout",
     "output_type": "stream",
     "text": [
      "None\n"
     ]
    }
   ],
   "source": [
    "k = L3.sort()\n",
    "print(k)"
   ]
  },
  {
   "cell_type": "code",
   "execution_count": 35,
   "id": "ed2dcfeb",
   "metadata": {},
   "outputs": [],
   "source": [
    "L3.sort()"
   ]
  },
  {
   "cell_type": "code",
   "execution_count": 36,
   "id": "7ad6422d",
   "metadata": {},
   "outputs": [
    {
     "name": "stdout",
     "output_type": "stream",
     "text": [
      "[10, 11, 14, 23, 45, 76]\n"
     ]
    }
   ],
   "source": [
    "print(L3)"
   ]
  },
  {
   "cell_type": "code",
   "execution_count": 37,
   "id": "4f0f07ec",
   "metadata": {},
   "outputs": [
    {
     "name": "stdout",
     "output_type": "stream",
     "text": [
      "<class 'list'>\n"
     ]
    }
   ],
   "source": [
    "print(type(L3))"
   ]
  },
  {
   "cell_type": "code",
   "execution_count": 39,
   "id": "1189da7b",
   "metadata": {},
   "outputs": [
    {
     "name": "stdout",
     "output_type": "stream",
     "text": [
      "[10, 11, 14, 23, 45, 76]\n",
      "[10, 11, 14, 23, 45]\n"
     ]
    }
   ],
   "source": [
    "#pop()\n",
    "print(L3)\n",
    "L3.pop()\n",
    "print(L3)"
   ]
  },
  {
   "cell_type": "code",
   "execution_count": 41,
   "id": "159a50d5",
   "metadata": {},
   "outputs": [
    {
     "name": "stdout",
     "output_type": "stream",
     "text": [
      "[10, 11, 14, 23, 45]\n",
      "[10, 14, 23, 45]\n"
     ]
    }
   ],
   "source": [
    "#pop(index_position)\n",
    "print(L3)\n",
    "L3.pop(1)\n",
    "print(L3)"
   ]
  },
  {
   "cell_type": "code",
   "execution_count": 42,
   "id": "d442afbd",
   "metadata": {},
   "outputs": [
    {
     "ename": "IndexError",
     "evalue": "pop index out of range",
     "output_type": "error",
     "traceback": [
      "\u001b[1;31m---------------------------------------------------------------------------\u001b[0m",
      "\u001b[1;31mIndexError\u001b[0m                                Traceback (most recent call last)",
      "\u001b[1;32m<ipython-input-42-db9a59a4b21e>\u001b[0m in \u001b[0;36m<module>\u001b[1;34m\u001b[0m\n\u001b[1;32m----> 1\u001b[1;33m \u001b[0mL3\u001b[0m\u001b[1;33m.\u001b[0m\u001b[0mpop\u001b[0m\u001b[1;33m(\u001b[0m\u001b[1;36m6\u001b[0m\u001b[1;33m)\u001b[0m\u001b[1;33m\u001b[0m\u001b[1;33m\u001b[0m\u001b[0m\n\u001b[0m",
      "\u001b[1;31mIndexError\u001b[0m: pop index out of range"
     ]
    }
   ],
   "source": [
    "L3.pop(6)"
   ]
  },
  {
   "cell_type": "code",
   "execution_count": 44,
   "id": "0039ea40",
   "metadata": {},
   "outputs": [
    {
     "name": "stdout",
     "output_type": "stream",
     "text": [
      "[10, 14, 23, 45]\n",
      "[10, 14, 45]\n"
     ]
    }
   ],
   "source": [
    "# remove(element_name)\n",
    "print(L3)\n",
    "L3.remove(23)\n",
    "print(L3)"
   ]
  },
  {
   "cell_type": "code",
   "execution_count": 45,
   "id": "e57e7ce0",
   "metadata": {},
   "outputs": [
    {
     "ename": "ValueError",
     "evalue": "list.remove(x): x not in list",
     "output_type": "error",
     "traceback": [
      "\u001b[1;31m---------------------------------------------------------------------------\u001b[0m",
      "\u001b[1;31mValueError\u001b[0m                                Traceback (most recent call last)",
      "\u001b[1;32m<ipython-input-45-5b4d6b189df7>\u001b[0m in \u001b[0;36m<module>\u001b[1;34m\u001b[0m\n\u001b[1;32m----> 1\u001b[1;33m \u001b[0mL3\u001b[0m\u001b[1;33m.\u001b[0m\u001b[0mremove\u001b[0m\u001b[1;33m(\u001b[0m\u001b[1;36m100\u001b[0m\u001b[1;33m)\u001b[0m\u001b[1;33m\u001b[0m\u001b[1;33m\u001b[0m\u001b[0m\n\u001b[0m\u001b[0;32m      2\u001b[0m \u001b[0mprint\u001b[0m\u001b[1;33m(\u001b[0m\u001b[0mL3\u001b[0m\u001b[1;33m)\u001b[0m\u001b[1;33m\u001b[0m\u001b[1;33m\u001b[0m\u001b[0m\n",
      "\u001b[1;31mValueError\u001b[0m: list.remove(x): x not in list"
     ]
    }
   ],
   "source": [
    "L3.remove(100)\n",
    "print(L3)"
   ]
  },
  {
   "cell_type": "code",
   "execution_count": 47,
   "id": "0d464152",
   "metadata": {},
   "outputs": [
    {
     "name": "stdout",
     "output_type": "stream",
     "text": [
      "[10, 14, 45]\n",
      "[]\n"
     ]
    }
   ],
   "source": [
    "# clear() method..\n",
    "print(L3)\n",
    "L3.clear()\n",
    "print(L3)"
   ]
  },
  {
   "cell_type": "code",
   "execution_count": 48,
   "id": "17d3ff03",
   "metadata": {},
   "outputs": [
    {
     "name": "stdout",
     "output_type": "stream",
     "text": [
      "[[1, 24.0]]\n"
     ]
    }
   ],
   "source": [
    "L3.append([1,24.0])\n",
    "print(L3)"
   ]
  },
  {
   "cell_type": "code",
   "execution_count": 49,
   "id": "c647c4e4",
   "metadata": {},
   "outputs": [
    {
     "ename": "TypeError",
     "evalue": "append() takes exactly one argument (3 given)",
     "output_type": "error",
     "traceback": [
      "\u001b[1;31m---------------------------------------------------------------------------\u001b[0m",
      "\u001b[1;31mTypeError\u001b[0m                                 Traceback (most recent call last)",
      "\u001b[1;32m<ipython-input-49-9eca2a3a25b3>\u001b[0m in \u001b[0;36m<module>\u001b[1;34m\u001b[0m\n\u001b[1;32m----> 1\u001b[1;33m \u001b[0mL3\u001b[0m\u001b[1;33m.\u001b[0m\u001b[0mappend\u001b[0m\u001b[1;33m(\u001b[0m\u001b[1;36m10\u001b[0m\u001b[1;33m,\u001b[0m\u001b[1;36m20\u001b[0m\u001b[1;33m,\u001b[0m\u001b[1;36m30\u001b[0m\u001b[1;33m)\u001b[0m\u001b[1;33m\u001b[0m\u001b[1;33m\u001b[0m\u001b[0m\n\u001b[0m\u001b[0;32m      2\u001b[0m \u001b[0mprint\u001b[0m\u001b[1;33m(\u001b[0m\u001b[0mL3\u001b[0m\u001b[1;33m)\u001b[0m\u001b[1;33m\u001b[0m\u001b[1;33m\u001b[0m\u001b[0m\n",
      "\u001b[1;31mTypeError\u001b[0m: append() takes exactly one argument (3 given)"
     ]
    }
   ],
   "source": [
    "L3.append(10,20,30)\n",
    "print(L3)"
   ]
  },
  {
   "cell_type": "code",
   "execution_count": 50,
   "id": "5a5c0e1d",
   "metadata": {},
   "outputs": [
    {
     "name": "stdout",
     "output_type": "stream",
     "text": [
      "[[1, 24.0], 'python']\n"
     ]
    }
   ],
   "source": [
    "s1 = \"python\"\n",
    "L3.append(s1)\n",
    "print(L3)"
   ]
  },
  {
   "cell_type": "code",
   "execution_count": 52,
   "id": "b6fe1342",
   "metadata": {},
   "outputs": [
    {
     "name": "stdout",
     "output_type": "stream",
     "text": [
      "[]\n"
     ]
    }
   ],
   "source": [
    "L3.clear()\n",
    "print(L3)\n",
    "del L3"
   ]
  },
  {
   "cell_type": "code",
   "execution_count": 53,
   "id": "e2c29ddf",
   "metadata": {},
   "outputs": [
    {
     "ename": "NameError",
     "evalue": "name 'L3' is not defined",
     "output_type": "error",
     "traceback": [
      "\u001b[1;31m---------------------------------------------------------------------------\u001b[0m",
      "\u001b[1;31mNameError\u001b[0m                                 Traceback (most recent call last)",
      "\u001b[1;32m<ipython-input-53-be7fb5477854>\u001b[0m in \u001b[0;36m<module>\u001b[1;34m\u001b[0m\n\u001b[1;32m----> 1\u001b[1;33m \u001b[0mprint\u001b[0m\u001b[1;33m(\u001b[0m\u001b[0mL3\u001b[0m\u001b[1;33m)\u001b[0m\u001b[1;33m\u001b[0m\u001b[1;33m\u001b[0m\u001b[0m\n\u001b[0m",
      "\u001b[1;31mNameError\u001b[0m: name 'L3' is not defined"
     ]
    }
   ],
   "source": [
    "print(L3)"
   ]
  },
  {
   "cell_type": "code",
   "execution_count": 54,
   "id": "9238d390",
   "metadata": {},
   "outputs": [
    {
     "name": "stdout",
     "output_type": "stream",
     "text": [
      "5\n",
      "6\n",
      "7\n",
      "5\n",
      "4\n",
      "1\n",
      "Given numbers are:  7 6 5 4 1 "
     ]
    }
   ],
   "source": [
    "n = int(input())\n",
    "m = []\n",
    "for i in range(n):\n",
    "    k = int(input())\n",
    "    m.append(k)\n",
    "m.sort(reverse=True)\n",
    "print('Given numbers are: ',end=\" \")\n",
    "for j in m:\n",
    "    print(j,end=\" \")"
   ]
  },
  {
   "cell_type": "markdown",
   "id": "2ebf65ea",
   "metadata": {},
   "source": [
    "### Tuple:\n",
    "        - It can be represented as ()\n",
    "        - It is immuteable [Cant changes]\n",
    "        - It stores ordered data type elements\n",
    "        - Slicing can be done because of index\n",
    "        - Duplicate values can be accessed\n",
    "        - It can be typcasted as \"tuple()\""
   ]
  },
  {
   "cell_type": "code",
   "execution_count": 55,
   "id": "86372cba",
   "metadata": {},
   "outputs": [
    {
     "data": {
      "text/plain": [
       "(10, 60)"
      ]
     },
     "execution_count": 55,
     "metadata": {},
     "output_type": "execute_result"
    }
   ],
   "source": [
    "a = 10\n",
    "b = 60\n",
    "a,b"
   ]
  },
  {
   "cell_type": "code",
   "execution_count": 57,
   "id": "a1f3cf79",
   "metadata": {},
   "outputs": [
    {
     "name": "stdout",
     "output_type": "stream",
     "text": [
      "(34, 56.546, 'tarun', '45', 34) <class 'tuple'>\n"
     ]
    }
   ],
   "source": [
    "y = (34,56.546,\"tarun\",'45',34)\n",
    "print(y,type(y))"
   ]
  },
  {
   "cell_type": "code",
   "execution_count": 59,
   "id": "92f0162a",
   "metadata": {},
   "outputs": [
    {
     "name": "stdout",
     "output_type": "stream",
     "text": [
      "(45, 78, 'rajesh') <class 'tuple'>\n",
      "[45, 78, 'rajesh'] <class 'list'>\n"
     ]
    }
   ],
   "source": [
    "k = [45,78,'rajesh']\n",
    "m = tuple(k)\n",
    "print(m,type(m))\n",
    "print(k,type(k))"
   ]
  },
  {
   "cell_type": "code",
   "execution_count": 60,
   "id": "04b22ec0",
   "metadata": {},
   "outputs": [
    {
     "name": "stdout",
     "output_type": "stream",
     "text": [
      "['__add__', '__class__', '__contains__', '__delattr__', '__dir__', '__doc__', '__eq__', '__format__', '__ge__', '__getattribute__', '__getitem__', '__getnewargs__', '__gt__', '__hash__', '__init__', '__init_subclass__', '__iter__', '__le__', '__len__', '__lt__', '__mul__', '__ne__', '__new__', '__reduce__', '__reduce_ex__', '__repr__', '__rmul__', '__setattr__', '__sizeof__', '__str__', '__subclasshook__', 'count', 'index']\n"
     ]
    }
   ],
   "source": [
    "print(dir(tuple))"
   ]
  },
  {
   "cell_type": "code",
   "execution_count": 62,
   "id": "856c95b4",
   "metadata": {},
   "outputs": [
    {
     "name": "stdout",
     "output_type": "stream",
     "text": [
      "(45, 78, 'rajesh')\n",
      "rajesh\n"
     ]
    }
   ],
   "source": [
    "print(m)\n",
    "print(m[2])"
   ]
  },
  {
   "cell_type": "code",
   "execution_count": 63,
   "id": "4ae06229",
   "metadata": {},
   "outputs": [
    {
     "name": "stdout",
     "output_type": "stream",
     "text": [
      "45 78 rajesh "
     ]
    }
   ],
   "source": [
    "for h in m:\n",
    "    print(h,end=\" \")"
   ]
  },
  {
   "cell_type": "code",
   "execution_count": 66,
   "id": "d5f4e669",
   "metadata": {},
   "outputs": [
    {
     "name": "stdout",
     "output_type": "stream",
     "text": [
      "3\n",
      "0\n"
     ]
    }
   ],
   "source": [
    "u = (12,78,89,'rajesh',12,45,12)\n",
    "print(u.count(12))\n",
    "print(u.count(200))"
   ]
  },
  {
   "cell_type": "code",
   "execution_count": 72,
   "id": "887c7088",
   "metadata": {},
   "outputs": [
    {
     "name": "stdout",
     "output_type": "stream",
     "text": [
      "1\n"
     ]
    }
   ],
   "source": [
    "print(u.index(78))"
   ]
  },
  {
   "cell_type": "markdown",
   "id": "91293f8e",
   "metadata": {},
   "source": [
    "## Set:\n",
    "    - To remove duplicate elements in a data strcuture\n",
    "    - It doesnt follow ordered format data\n",
    "    - Slicing cant be done because index is not possible\n",
    "    - It can follows the data in ordered format and displays the data in kernel but not in print statement\n",
    "    - It can be represented as \"{}\" but inside of set it should allow single value"
   ]
  },
  {
   "cell_type": "code",
   "execution_count": 76,
   "id": "9042324a",
   "metadata": {},
   "outputs": [
    {
     "name": "stdout",
     "output_type": "stream",
     "text": [
      "{'arun', '45', 45, 'ramesh', 56} <class 'set'>\n"
     ]
    },
    {
     "data": {
      "text/plain": [
       "{'45', 45, 56, 'arun', 'ramesh'}"
      ]
     },
     "execution_count": 76,
     "metadata": {},
     "output_type": "execute_result"
    }
   ],
   "source": [
    "y = {45,56,'45','ramesh','arun'}\n",
    "print(y,type(y))\n",
    "y "
   ]
  },
  {
   "cell_type": "code",
   "execution_count": 74,
   "id": "5a5a46ed",
   "metadata": {},
   "outputs": [
    {
     "name": "stdout",
     "output_type": "stream",
     "text": [
      "{10, 20, 45}\n"
     ]
    }
   ],
   "source": [
    "s = {10,20,10,20,45,10}\n",
    "print(s)"
   ]
  },
  {
   "cell_type": "code",
   "execution_count": 78,
   "id": "6c0cf952",
   "metadata": {},
   "outputs": [
    {
     "name": "stdout",
     "output_type": "stream",
     "text": [
      "10 20 45 "
     ]
    }
   ],
   "source": [
    "# using loop\n",
    "for i in s:\n",
    "    print(i,end=\" \")"
   ]
  },
  {
   "cell_type": "code",
   "execution_count": 79,
   "id": "145fb216",
   "metadata": {},
   "outputs": [
    {
     "name": "stdout",
     "output_type": "stream",
     "text": [
      "3\n"
     ]
    }
   ],
   "source": [
    "print(len(s))"
   ]
  },
  {
   "cell_type": "code",
   "execution_count": 80,
   "id": "288ea54c",
   "metadata": {},
   "outputs": [
    {
     "ename": "TypeError",
     "evalue": "'set' object is not subscriptable",
     "output_type": "error",
     "traceback": [
      "\u001b[1;31m---------------------------------------------------------------------------\u001b[0m",
      "\u001b[1;31mTypeError\u001b[0m                                 Traceback (most recent call last)",
      "\u001b[1;32m<ipython-input-80-168edbaae2d9>\u001b[0m in \u001b[0;36m<module>\u001b[1;34m\u001b[0m\n\u001b[0;32m      1\u001b[0m \u001b[1;32mfor\u001b[0m \u001b[0mi\u001b[0m \u001b[1;32min\u001b[0m \u001b[0mrange\u001b[0m\u001b[1;33m(\u001b[0m\u001b[0mlen\u001b[0m\u001b[1;33m(\u001b[0m\u001b[0ms\u001b[0m\u001b[1;33m)\u001b[0m\u001b[1;33m)\u001b[0m\u001b[1;33m:\u001b[0m\u001b[1;33m\u001b[0m\u001b[1;33m\u001b[0m\u001b[0m\n\u001b[1;32m----> 2\u001b[1;33m     \u001b[0mprint\u001b[0m\u001b[1;33m(\u001b[0m\u001b[0ms\u001b[0m\u001b[1;33m[\u001b[0m\u001b[0mi\u001b[0m\u001b[1;33m]\u001b[0m\u001b[1;33m,\u001b[0m\u001b[0mend\u001b[0m\u001b[1;33m=\u001b[0m\u001b[1;34m\" \"\u001b[0m\u001b[1;33m)\u001b[0m\u001b[1;33m\u001b[0m\u001b[1;33m\u001b[0m\u001b[0m\n\u001b[0m",
      "\u001b[1;31mTypeError\u001b[0m: 'set' object is not subscriptable"
     ]
    }
   ],
   "source": [
    "for i in range(len(s)):\n",
    "    print(s[i],end=\" \")"
   ]
  },
  {
   "cell_type": "markdown",
   "id": "43c9ead1",
   "metadata": {},
   "source": [
    "### set methods"
   ]
  },
  {
   "cell_type": "code",
   "execution_count": 81,
   "id": "77bb7af3",
   "metadata": {},
   "outputs": [
    {
     "name": "stdout",
     "output_type": "stream",
     "text": [
      "['__and__', '__class__', '__contains__', '__delattr__', '__dir__', '__doc__', '__eq__', '__format__', '__ge__', '__getattribute__', '__gt__', '__hash__', '__iand__', '__init__', '__init_subclass__', '__ior__', '__isub__', '__iter__', '__ixor__', '__le__', '__len__', '__lt__', '__ne__', '__new__', '__or__', '__rand__', '__reduce__', '__reduce_ex__', '__repr__', '__ror__', '__rsub__', '__rxor__', '__setattr__', '__sizeof__', '__str__', '__sub__', '__subclasshook__', '__xor__', 'add', 'clear', 'copy', 'difference', 'difference_update', 'discard', 'intersection', 'intersection_update', 'isdisjoint', 'issubset', 'issuperset', 'pop', 'remove', 'symmetric_difference', 'symmetric_difference_update', 'union', 'update']\n"
     ]
    }
   ],
   "source": [
    "print(dir(set))"
   ]
  },
  {
   "cell_type": "code",
   "execution_count": 90,
   "id": "109610d5",
   "metadata": {},
   "outputs": [
    {
     "name": "stdout",
     "output_type": "stream",
     "text": [
      "{20, 100, 200, 10, 45}\n"
     ]
    }
   ],
   "source": [
    "#print(s)\n",
    "s1 = {100,200}\n",
    "s.update(s1)\n",
    "print(s)"
   ]
  },
  {
   "cell_type": "code",
   "execution_count": 91,
   "id": "db8dda3c",
   "metadata": {},
   "outputs": [
    {
     "name": "stdout",
     "output_type": "stream",
     "text": [
      "{33, 20, 100, 22, 200, 10, 45}\n"
     ]
    }
   ],
   "source": [
    "L1 = [22,33,45]\n",
    "s.update(L1)\n",
    "print(s)"
   ]
  },
  {
   "cell_type": "code",
   "execution_count": 93,
   "id": "7f14a87e",
   "metadata": {},
   "outputs": [
    {
     "name": "stdout",
     "output_type": "stream",
     "text": [
      "{33, 20, 100, 22, 200, 10, 45}\n",
      "{33, 20, 100, 22, 200, 10, 120, 45}\n"
     ]
    }
   ],
   "source": [
    "print(s)\n",
    "s.add(120)\n",
    "print(s)"
   ]
  },
  {
   "cell_type": "markdown",
   "id": "23d57c21",
   "metadata": {},
   "source": [
    "### Dictionary:\n",
    "        - It is a collection keys and values..\n",
    "        - It is represented as {}.\n",
    "        -syntax: {keyname:value1,keyname2:value2...}\n",
    "        - keynames are unique.\n",
    "        - It is mutable..\n",
    "        - To access the dictionary data only using keynames..\n",
    "        - Collection of dirrefent data types..\n",
    "        - does'nt update the keyname.."
   ]
  },
  {
   "cell_type": "code",
   "execution_count": 98,
   "id": "5b73779d",
   "metadata": {},
   "outputs": [
    {
     "name": "stdout",
     "output_type": "stream",
     "text": [
      "{'name': 'aadyan', 'rollno': 210, 'branch': 'civil', 1: 200, 2: 34.5}\n",
      "<class 'dict'>\n"
     ]
    }
   ],
   "source": [
    "d1={'name':'aadyan','rollno':210,'branch':'civil',1:100,2:34.5,1:200}\n",
    "print(d1)\n",
    "print(type(d1))"
   ]
  },
  {
   "cell_type": "code",
   "execution_count": 97,
   "id": "5c140dc0",
   "metadata": {},
   "outputs": [
    {
     "name": "stdout",
     "output_type": "stream",
     "text": [
      "{10} <class 'set'>\n"
     ]
    }
   ],
   "source": [
    "f = {10}\n",
    "print(f,type(f))"
   ]
  },
  {
   "cell_type": "code",
   "execution_count": 102,
   "id": "1666eae8",
   "metadata": {},
   "outputs": [
    {
     "name": "stdout",
     "output_type": "stream",
     "text": [
      "{'name': 'aadyan', 'rollno': 210, 'branch': 'civil', 1: 200, 2: 34.5}\n",
      "aadyan\n",
      "210\n",
      "civil\n",
      "200\n",
      "34.5\n"
     ]
    }
   ],
   "source": [
    "print(d1)\n",
    "for i in d1:\n",
    "    print(i)# To get keynames"
   ]
  },
  {
   "cell_type": "code",
   "execution_count": 103,
   "id": "803269b2",
   "metadata": {},
   "outputs": [
    {
     "name": "stdout",
     "output_type": "stream",
     "text": [
      "{'name': 'aadyan', 'rollno': 210, 'branch': 'civil', 1: 200, 2: 34.5}\n",
      "name\n",
      "rollno\n",
      "branch\n",
      "1\n",
      "2\n"
     ]
    }
   ],
   "source": [
    "print(d1)\n",
    "for i in d1.keys():\n",
    "    print(i)# "
   ]
  },
  {
   "cell_type": "code",
   "execution_count": 104,
   "id": "3946d917",
   "metadata": {},
   "outputs": [
    {
     "name": "stdout",
     "output_type": "stream",
     "text": [
      "{'name': 'aadyan', 'rollno': 210, 'branch': 'civil', 1: 200, 2: 34.5}\n",
      "aadyan\n",
      "210\n",
      "civil\n",
      "200\n",
      "34.5\n"
     ]
    }
   ],
   "source": [
    "print(d1)\n",
    "for i in d1.values():\n",
    "    print(i)# TO get values.."
   ]
  },
  {
   "cell_type": "code",
   "execution_count": 105,
   "id": "3258fbff",
   "metadata": {},
   "outputs": [
    {
     "name": "stdout",
     "output_type": "stream",
     "text": [
      "{'name': 'aadyan', 'rollno': 210, 'branch': 'civil', 1: 200, 2: 34.5}\n",
      "('name', 'aadyan')\n",
      "('rollno', 210)\n",
      "('branch', 'civil')\n",
      "(1, 200)\n",
      "(2, 34.5)\n"
     ]
    }
   ],
   "source": [
    "print(d1)\n",
    "for i in d1.items():\n",
    "    print(i)# "
   ]
  },
  {
   "cell_type": "code",
   "execution_count": 107,
   "id": "8050408c",
   "metadata": {},
   "outputs": [
    {
     "name": "stdout",
     "output_type": "stream",
     "text": [
      "{'name': 'aadyan', 'rollno': 210, 'branch': 'civil', 1: 200, 2: 34.5}\n",
      "aadyan\n"
     ]
    }
   ],
   "source": [
    "# To access the dictionary values..\n",
    "print(d1)\n",
    "print(d1['name'])"
   ]
  },
  {
   "cell_type": "code",
   "execution_count": 109,
   "id": "076c5d9c",
   "metadata": {},
   "outputs": [
    {
     "name": "stdout",
     "output_type": "stream",
     "text": [
      "{'name': 'aadyan', 'rollno': 210, 'branch': 'civil', 1: 200, 2: 34.5}\n",
      "{'name': 'aadyan', 'rollno': 310, 'branch': 'civil', 1: 200, 2: 34.5}\n"
     ]
    }
   ],
   "source": [
    "print(d1)\n",
    "d1['rollno'] = 310\n",
    "print(d1)"
   ]
  },
  {
   "cell_type": "code",
   "execution_count": 110,
   "id": "cdd098d2",
   "metadata": {},
   "outputs": [
    {
     "name": "stdout",
     "output_type": "stream",
     "text": [
      "{'name': 'aadyan', 'rollno': 310, 'branch': 'civil', 1: 200, 2: 34.5, 'marks': 87}\n"
     ]
    }
   ],
   "source": [
    "d1['marks'] = 87\n",
    "print(d1)"
   ]
  },
  {
   "cell_type": "code",
   "execution_count": 115,
   "id": "b0f52d4a",
   "metadata": {},
   "outputs": [
    {
     "name": "stdout",
     "output_type": "stream",
     "text": [
      "{3: 48, 4: 100, 6: 24}\n"
     ]
    }
   ],
   "source": [
    "d2 = {1:23,2:37,3:48,4:100,5:39,6:24}\n",
    "#{3:48,4:100,6:24}\n",
    "d3 ={}\n",
    "for i,j in d2.items():\n",
    "    if j%2==0:\n",
    "        d3[i] = j\n",
    "print(d3)"
   ]
  },
  {
   "cell_type": "code",
   "execution_count": 121,
   "id": "a744b762",
   "metadata": {},
   "outputs": [
    {
     "name": "stdout",
     "output_type": "stream",
     "text": [
      "apssdc\n"
     ]
    }
   ],
   "source": [
    "s1 =\"apssdc\"\n",
    "s1.capitalize()\n",
    "print(s1)"
   ]
  },
  {
   "cell_type": "code",
   "execution_count": 122,
   "id": "dd5ae3a1",
   "metadata": {},
   "outputs": [
    {
     "name": "stdout",
     "output_type": "stream",
     "text": [
      "apssdc\n"
     ]
    }
   ],
   "source": [
    "s1.upper()\n",
    "print(s1)"
   ]
  },
  {
   "cell_type": "code",
   "execution_count": 1,
   "id": "bfe58131",
   "metadata": {},
   "outputs": [
    {
     "name": "stdout",
     "output_type": "stream",
     "text": [
      "Welcome to python programming\n"
     ]
    }
   ],
   "source": [
    "t = \"welcome to python programming\"\n",
    "print(t.capitalize())"
   ]
  },
  {
   "cell_type": "code",
   "execution_count": 2,
   "id": "aeea38e6",
   "metadata": {},
   "outputs": [
    {
     "name": "stdout",
     "output_type": "stream",
     "text": [
      "APSSDC\n"
     ]
    }
   ],
   "source": [
    "t1 =\"apssdc\"\n",
    "print(t1.upper())"
   ]
  },
  {
   "cell_type": "code",
   "execution_count": 4,
   "id": "6dfd734c",
   "metadata": {},
   "outputs": [
    {
     "name": "stdout",
     "output_type": "stream",
     "text": [
      "apssdc\n"
     ]
    }
   ],
   "source": [
    "t2 = \"Apssdc\"\n",
    "print(t2.lower())"
   ]
  },
  {
   "cell_type": "code",
   "execution_count": 6,
   "id": "e624466f",
   "metadata": {},
   "outputs": [
    {
     "name": "stdout",
     "output_type": "stream",
     "text": [
      "welcome to python programming\n",
      "Welcome To Python Programming\n"
     ]
    }
   ],
   "source": [
    "print(t)\n",
    "print(t.title())"
   ]
  },
  {
   "cell_type": "code",
   "execution_count": 7,
   "id": "ad6529d5",
   "metadata": {},
   "outputs": [
    {
     "name": "stdout",
     "output_type": "stream",
     "text": [
      "pytHON\n"
     ]
    }
   ],
   "source": [
    "t2 = \"PYThon\"\n",
    "print(t2.swapcase())"
   ]
  },
  {
   "cell_type": "code",
   "execution_count": 12,
   "id": "ca3ee020",
   "metadata": {},
   "outputs": [
    {
     "name": "stdout",
     "output_type": "stream",
     "text": [
      "False\n"
     ]
    }
   ],
   "source": [
    "n = \"Rajesh\"\n",
    "print(n.startswith('r'))"
   ]
  },
  {
   "cell_type": "code",
   "execution_count": 11,
   "id": "79b05c2c",
   "metadata": {},
   "outputs": [
    {
     "name": "stdout",
     "output_type": "stream",
     "text": [
      "True\n"
     ]
    }
   ],
   "source": [
    "print(n.endswith('h'))"
   ]
  },
  {
   "cell_type": "code",
   "execution_count": 13,
   "id": "a1cacd10",
   "metadata": {},
   "outputs": [
    {
     "name": "stdout",
     "output_type": "stream",
     "text": [
      "Enter namesramu raju madhu nethra \n",
      "['ramu', 'raju', 'madhu', 'nethra']\n"
     ]
    }
   ],
   "source": [
    "# To convert string format of data to list format..\n",
    "names = input(\"Enter names\").split()\n",
    "print(names)"
   ]
  },
  {
   "cell_type": "code",
   "execution_count": null,
   "id": "c320e360",
   "metadata": {},
   "outputs": [],
   "source": []
  }
 ],
 "metadata": {
  "kernelspec": {
   "display_name": "Python 3",
   "language": "python",
   "name": "python3"
  },
  "language_info": {
   "codemirror_mode": {
    "name": "ipython",
    "version": 3
   },
   "file_extension": ".py",
   "mimetype": "text/x-python",
   "name": "python",
   "nbconvert_exporter": "python",
   "pygments_lexer": "ipython3",
   "version": "3.7.5"
  }
 },
 "nbformat": 4,
 "nbformat_minor": 5
}
