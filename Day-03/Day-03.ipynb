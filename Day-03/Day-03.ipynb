{
 "cells": [
  {
   "cell_type": "markdown",
   "id": "a7b7ba7b",
   "metadata": {},
   "source": [
    "## Nested If:"
   ]
  },
  {
   "cell_type": "code",
   "execution_count": 4,
   "id": "a99b284f",
   "metadata": {},
   "outputs": [
    {
     "name": "stdout",
     "output_type": "stream",
     "text": [
      "Enter username: aadyan\n",
      "Enter password: python@123\n",
      "Welcome aadyan\n"
     ]
    }
   ],
   "source": [
    "# Login Page...\n",
    "u = input(\"Enter username: \")\n",
    "p = input(\"Enter password: \")\n",
    "if u == \"aadyan\":\n",
    "    if p == \"python@123\":\n",
    "        print(\"Welcome {}\".format(u))\n",
    "    else:\n",
    "        print(\"invalid password try again!..\")\n",
    "else:\n",
    "    print(\"invalid username try again!..\")"
   ]
  },
  {
   "cell_type": "code",
   "execution_count": 9,
   "id": "27b095c3",
   "metadata": {},
   "outputs": [
    {
     "name": "stdout",
     "output_type": "stream",
     "text": [
      "Enter username: ramu\n",
      "Enter password: ramu@123\n",
      "welcome ramu\n"
     ]
    }
   ],
   "source": [
    "user = input(\"Enter username: \")\n",
    "pwd = input(\"Enter password: \")\n",
    "if user == \"ramu\" and pwd == \"ramu@123\":\n",
    "    print(\"welcome {}\".format(user))\n",
    "else:\n",
    "    print(\"Invalid details...\")"
   ]
  },
  {
   "cell_type": "code",
   "execution_count": 13,
   "id": "68c5e790",
   "metadata": {},
   "outputs": [
    {
     "name": "stdout",
     "output_type": "stream",
     "text": [
      "Enter Email id: ramu123@gmail.com\n",
      "Enter Password: 1234\n",
      "Welcome user ramu123@gmail.com\n"
     ]
    }
   ],
   "source": [
    "u = input(\"Enter Email id: \")\n",
    "if u == \"ramu123@gmail.com\":\n",
    "    p = input(\"Enter Password: \")\n",
    "    if p == \"1234\":\n",
    "        print(\"Welcome user {}\".format(u))\n",
    "    else:\n",
    "        print(\"Invalid Password\")\n",
    "else:\n",
    "    print(\"Invalid email id {}\".format(u))"
   ]
  },
  {
   "cell_type": "markdown",
   "id": "481e2db4",
   "metadata": {},
   "source": [
    "### Loops:\n",
    "\n",
    "        1.for loop -> kown ranges\n",
    "        2.while loop -> for unknown ranges\n",
    "        \n",
    "- for loop syntax:\n",
    "       - for variable_name in range(start,stop,step):\n",
    "                statements\n",
    "                    \n",
    "                    \n",
    "                       (or)\n",
    "      - for variable_name in sequence(list,tuple,dictionary,string):\n",
    "          statements\n",
    "- range(start,stop,step)\n",
    "    = By default start value as always '0'.\n",
    "    = stop value as taking size-1\n",
    "    = step value by default '1'"
   ]
  },
  {
   "cell_type": "code",
   "execution_count": 17,
   "id": "3d248d66",
   "metadata": {},
   "outputs": [
    {
     "name": "stdout",
     "output_type": "stream",
     "text": [
      "0 1 2 3 4 5 6 7 8 9 "
     ]
    }
   ],
   "source": [
    "# range(start=0,stop=10,step=1)\n",
    "for i in range(10):\n",
    "    print(i,end=\" \")"
   ]
  },
  {
   "cell_type": "code",
   "execution_count": 20,
   "id": "5f77f523",
   "metadata": {},
   "outputs": [
    {
     "name": "stdout",
     "output_type": "stream",
     "text": [
      "Enter start value:1\n",
      "Enter stop value:15\n",
      "1 2 3 4 5 6 7 8 9 10 11 12 13 14 15 "
     ]
    }
   ],
   "source": [
    "st = int(input(\"Enter start value:\"))\n",
    "st2 = int(input(\"Enter stop value:\"))\n",
    "for i in range(st,st2+1):\n",
    "    print(i,end=\" \")"
   ]
  },
  {
   "cell_type": "code",
   "execution_count": 23,
   "id": "dfded4be",
   "metadata": {},
   "outputs": [
    {
     "name": "stdout",
     "output_type": "stream",
     "text": [
      "Enter start value:1\n",
      "Enter stop value:15\n",
      "Enter step value:1\n",
      "1 2 3 4 5 6 7 8 9 10 11 12 13 14 15 "
     ]
    }
   ],
   "source": [
    "s1 = int(input(\"Enter start value:\"))\n",
    "s2 = int(input(\"Enter stop value:\"))\n",
    "s3 = int(input(\"Enter step value:\"))\n",
    "for j in range(s1,s2+1,s3):\n",
    "    print(j,end=\" \")"
   ]
  },
  {
   "cell_type": "code",
   "execution_count": 25,
   "id": "7a63cb77",
   "metadata": {},
   "outputs": [
    {
     "name": "stdout",
     "output_type": "stream",
     "text": [
      "Enter n value:20\n",
      "0 2 4 6 8 10 12 14 16 18 20 "
     ]
    }
   ],
   "source": [
    "# To print the 1 to n even natural numbers:\n",
    "# input: n = 100\n",
    "# output: 2 4 6 8 ....100\n",
    "n = int(input(\"Enter n value:\"))\n",
    "for i in range(0,n+1,2):\n",
    "    print(i,end=\" \")"
   ]
  },
  {
   "cell_type": "code",
   "execution_count": 27,
   "id": "879c43f2",
   "metadata": {},
   "outputs": [
    {
     "name": "stdout",
     "output_type": "stream",
     "text": [
      "Enter n value:25\n",
      "factorial of 25 is 15511210043330985984000000\n"
     ]
    }
   ],
   "source": [
    "# factorial program\n",
    "# input: n=5\n",
    "# output: 1*2*3*4*5 => 120\n",
    "n = int(input(\"Enter n value:\"))\n",
    "f1 = 1\n",
    "for i in range(1,n+1):\n",
    "    f1 = f1*i\n",
    "print(\"factorial of {} is {}\".format(n,f1))\n"
   ]
  },
  {
   "cell_type": "code",
   "execution_count": 31,
   "id": "9ebc4d88",
   "metadata": {},
   "outputs": [
    {
     "name": "stdout",
     "output_type": "stream",
     "text": [
      "Enter n value:10\n",
      "10 9 8 7 6 5 4 3 2 1 0 "
     ]
    }
   ],
   "source": [
    "# To print  1 to n natural numbers in descending order?\n",
    "# output: n=10-> 10 9 8 7 6 5 4 3 2 1\n",
    "n = int(input(\"Enter n value:\"))\n",
    "for i in range(n,-1,-1):\n",
    "    print(i,end=\" \")"
   ]
  },
  {
   "cell_type": "markdown",
   "id": "113968f7",
   "metadata": {},
   "source": [
    "```\n",
    "1. print the numbers\n",
    "2. Divide and print the numbers\n",
    "3. Invalid Choice\n",
    "\n",
    "Input:\n",
    "    1\n",
    "    Enter a number: 3\n",
    "Output:\n",
    "    00 01 02\n",
    "Input:\n",
    "    3\n",
    "Output:\n",
    "    Please select correct option\n",
    "Input:\n",
    "    2\n",
    "    Enter a number: 10\n",
    "Output:\n",
    "    5 6 7 8 9 10\n",
    "```\n",
    "\n"
   ]
  },
  {
   "cell_type": "code",
   "execution_count": 53,
   "id": "ac8816b8",
   "metadata": {},
   "outputs": [
    {
     "name": "stdout",
     "output_type": "stream",
     "text": [
      "1. print the numbers\n",
      "2. Divide and print the numbers\n",
      "3. Invalid Choice\n",
      "1\n",
      "Enter a value: 3\n",
      "00 01 02 "
     ]
    }
   ],
   "source": [
    "print(\"1. print the numbers\\n2. Divide and print the numbers\"\n",
    "      \"\\n3. Invalid Choice\")\n",
    "op = int(input())\n",
    "if op == 2:\n",
    "    r = int(input(\"Enter a value: \"))\n",
    "    for i in range(r//2,r+1):\n",
    "        print(i,end=\" \")\n",
    "elif op == 1:\n",
    "    e = int(input(\"Enter a value: \"))\n",
    "    for i in range(e):\n",
    "        print(\"{:02}\".format(i),end=\" \")\n",
    "else:\n",
    "    print(\"Invalid choice\")"
   ]
  },
  {
   "cell_type": "code",
   "execution_count": 48,
   "id": "44d446bb",
   "metadata": {},
   "outputs": [
    {
     "name": "stdout",
     "output_type": "stream",
     "text": [
      "20\n",
      "10 11 12 13 14 15 16 17 18 19 20 "
     ]
    }
   ],
   "source": [
    "k = int(input())\n",
    "for j in range(k//2,k+1):\n",
    "    print(j,end=\" \")"
   ]
  },
  {
   "cell_type": "code",
   "execution_count": 45,
   "id": "75449eea",
   "metadata": {},
   "outputs": [
    {
     "data": {
      "text/plain": [
       "5"
      ]
     },
     "execution_count": 45,
     "metadata": {},
     "output_type": "execute_result"
    }
   ],
   "source": [
    "10//2"
   ]
  },
  {
   "cell_type": "markdown",
   "id": "84bfe67a",
   "metadata": {},
   "source": [
    "## While\n",
    "    - for known and unknown ranges\n",
    "    - for infinity loops\n",
    "       \n",
    "     Syntax:\n",
    "     -------\n",
    "         initialisation of variable\n",
    "         while condition:\n",
    "             //stmnts\n",
    "             incr/decr/any updation"
   ]
  },
  {
   "cell_type": "code",
   "execution_count": 57,
   "id": "513a26ba",
   "metadata": {},
   "outputs": [
    {
     "name": "stdout",
     "output_type": "stream",
     "text": [
      "Enter a range:5\n",
      "1 2 3 4 5 \n",
      "i value is 6\n"
     ]
    }
   ],
   "source": [
    "n = int(input(\"Enter a range:\"))\n",
    "i = 1\n",
    "while(i<=n):#false\n",
    "    print(i,end=\" \")\n",
    "    i +=1\n",
    "print('\\ni value is {}'.format(i))"
   ]
  },
  {
   "cell_type": "code",
   "execution_count": 61,
   "id": "64533b95",
   "metadata": {},
   "outputs": [
    {
     "name": "stdout",
     "output_type": "stream",
     "text": [
      "Enter n value:5\n",
      "5 4 3 2 1 0 \n",
      "i value is -1\n"
     ]
    }
   ],
   "source": [
    "#backword direction..\n",
    "n = int(input(\"Enter n value:\"))\n",
    "i = n\n",
    "while(i>-1):\n",
    "    print(i,end=\" \")\n",
    "    i -=1\n",
    "print(\"\\ni value is {}\".format(i))"
   ]
  },
  {
   "cell_type": "code",
   "execution_count": 2,
   "id": "9d05337c",
   "metadata": {},
   "outputs": [
    {
     "name": "stdout",
     "output_type": "stream",
     "text": [
      "1.print the numbers\n",
      "2.divid and print numbers\n",
      "3.Invalid choice:\n",
      "4.exit\n",
      "Enter a number:2\n",
      "Enter a range:40\n",
      "20 21 22 23 24 25 26 27 28 29 30 31 32 33 34 35 36 37 38 39 40 1.print the numbers\n",
      "2.divid and print numbers\n",
      "3.Invalid choice:\n",
      "4.exit\n",
      "Enter a number:1\n",
      "Enter a range:15\n",
      "00 01 02 03 04 05 06 07 08 09 10 11 12 13 14 1.print the numbers\n",
      "2.divid and print numbers\n",
      "3.Invalid choice:\n",
      "4.exit\n",
      "Enter a number:6\n",
      "select valid option:..\n",
      "1.print the numbers\n",
      "2.divid and print numbers\n",
      "3.Invalid choice:\n",
      "4.exit\n",
      "Enter a number:4\n"
     ]
    }
   ],
   "source": [
    "#infinity loop\n",
    "while True:\n",
    "    print(\"1.print the numbers\\n\"\n",
    "    \"2.divid and print numbers\\n3.Invalid choice:\\n4.exit\")\n",
    "    n = int(input(\"Enter a number:\"))\n",
    "    if n == 1:\n",
    "        r = int(input(\"Enter a range:\"))\n",
    "        for i in range(r):\n",
    "            print(\"{:02}\".format(i),end=\" \")\n",
    "    elif n == 4:\n",
    "        break\n",
    "    elif n == 2:\n",
    "        r = int(input(\"Enter a range:\"))\n",
    "        for i in range(r//2,r+1):\n",
    "            print(i,end=\" \")\n",
    "    else:\n",
    "        print(\"select valid option:..\")\n",
    "        \n"
   ]
  },
  {
   "cell_type": "code",
   "execution_count": null,
   "id": "2ef5fb97",
   "metadata": {},
   "outputs": [],
   "source": []
  },
  {
   "cell_type": "code",
   "execution_count": null,
   "id": "8e5a07ab",
   "metadata": {},
   "outputs": [],
   "source": []
  }
 ],
 "metadata": {
  "kernelspec": {
   "display_name": "Python 3",
   "language": "python",
   "name": "python3"
  },
  "language_info": {
   "codemirror_mode": {
    "name": "ipython",
    "version": 3
   },
   "file_extension": ".py",
   "mimetype": "text/x-python",
   "name": "python",
   "nbconvert_exporter": "python",
   "pygments_lexer": "ipython3",
   "version": "3.7.5"
  }
 },
 "nbformat": 4,
 "nbformat_minor": 5
}
